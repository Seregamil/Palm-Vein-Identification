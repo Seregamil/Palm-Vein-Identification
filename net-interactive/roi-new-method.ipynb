{
 "cells": [
  {
   "cell_type": "code",
   "execution_count": 1,
   "metadata": {},
   "outputs": [
    {
     "data": {
      "text/html": [
       "Installing package OpenCvSharp4.Windows, version 4.2.0.20200208......."
      ]
     },
     "metadata": {},
     "output_type": "display_data"
    },
    {
     "ename": "Unhandled exception",
     "evalue": "input.fsx (2,7)-(2,18) typecheck error The value or constructor 'OpenCvSharp' is not defined.",
     "output_type": "error",
     "traceback": [
      "input.fsx (2,7)-(2,18) typecheck error The value or constructor 'OpenCvSharp' is not defined."
     ]
    }
   ],
   "source": [
    "#r \"nuget:OpenCvSharp4.Windows, 4.2.0.20200208\"\n",
    "    \n",
    "using OpenCvSharp;"
   ]
  },
  {
   "cell_type": "code",
   "execution_count": 2,
   "metadata": {},
   "outputs": [],
   "source": [
    "using System;"
   ]
  },
  {
   "cell_type": "code",
   "execution_count": 3,
   "metadata": {},
   "outputs": [],
   "source": [
    "var sourceHandle = OpenCvSharp.Cv2.ImRead(@\"images-roi-method\\source.jpg\", OpenCvSharp.ImreadModes.AnyColor);\n",
    "\n",
    "var palmHandle = new OpenCvSharp.Mat();\n",
    "sourceHandle.CopyTo(palmHandle);"
   ]
  },
  {
   "cell_type": "markdown",
   "metadata": {},
   "source": [
    "#### Source image:\n",
    "![](images-roi-method/source.jpg)"
   ]
  },
  {
   "cell_type": "code",
   "execution_count": 4,
   "metadata": {},
   "outputs": [],
   "source": [
    "OpenCvSharp.Cv2.Threshold(palmHandle, palmHandle, 0, 255, OpenCvSharp.ThresholdTypes.Otsu);\n",
    "OpenCvSharp.Cv2.ImWrite(@\"images-roi-method\\001_threshold.jpg\", palmHandle);"
   ]
  },
  {
   "cell_type": "markdown",
   "metadata": {},
   "source": [
    "#### Thresholded image:\n",
    "\n",
    "![](images-roi-method/001_threshold.jpg)"
   ]
  },
  {
   "cell_type": "code",
   "execution_count": 5,
   "metadata": {},
   "outputs": [],
   "source": [
    "OpenCvSharp.Cv2.DistanceTransform(palmHandle, palmHandle, OpenCvSharp.DistanceTypes.L2, OpenCvSharp.DistanceMaskSize.Precise);\n",
    "palmHandle.ConvertTo(palmHandle, OpenCvSharp.MatType.CV_8U);\n",
    "\n",
    "OpenCvSharp.Cv2.ImWrite(@\"images-roi-method\\002_distance_transform.jpg\", palmHandle);"
   ]
  },
  {
   "cell_type": "markdown",
   "metadata": {},
   "source": [
    "#### Apply distance transform\n",
    "\n",
    "![](images-roi-method/002_distance_transform.jpg)"
   ]
  },
  {
   "cell_type": "code",
   "execution_count": 6,
   "metadata": {},
   "outputs": [],
   "source": [
    "// https://syudal.tistory.com/entry/OpenCVSharp-%EC%86%90%EA%B0%80%EB%9D%BD-%EA%B0%90%EC%A7%80\n",
    "// http://blog.naver.com/pckbj123/100203325426\n",
    "private OpenCvSharp.Point GetHandCenter(OpenCvSharp.Mat mask, out double radius) {\n",
    "    OpenCvSharp.Mat dst = new OpenCvSharp.Mat();\n",
    "    double radius1;\n",
    "    OpenCvSharp.Cv2.DistanceTransform(mask, dst, OpenCvSharp.DistanceTypes.L2, OpenCvSharp.DistanceMaskSize.Mask5);\n",
    "\n",
    "    int[] maxIdx = new int[2];\n",
    "    int[] minIdx = new int[2];\n",
    "    OpenCvSharp.Cv2.MinMaxIdx(dst, out radius1, out radius, minIdx, maxIdx, mask);\n",
    "    OpenCvSharp.Point output = new OpenCvSharp.Point(maxIdx[1], maxIdx[0]);\n",
    "    return output;\n",
    "}"
   ]
  },
  {
   "cell_type": "code",
   "execution_count": 7,
   "metadata": {},
   "outputs": [],
   "source": [
    "// mathematics\n",
    "// calculate roi position near center of hand and radius\n",
    "\n",
    "double radius, a, xx, yy;\n",
    "OpenCvSharp.Point centerOfPalm;\n",
    "\n",
    "centerOfPalm = GetHandCenter(palmHandle, out radius);\n",
    "\n",
    "a = (2 * radius) / Math.Sqrt(2);\n",
    "\n",
    "xx = centerOfPalm.X - radius * Math.Cos(45 * Math.PI / 180);\n",
    "yy = centerOfPalm.Y - radius * Math.Sin(45 * Math.PI / 180);\n",
    "\n",
    "var rect = new OpenCvSharp.Rect(new OpenCvSharp.Point(xx, yy), new OpenCvSharp.Size(a, a));\n",
    "var roi = new OpenCvSharp.Mat(sourceHandle, rect).Resize(new OpenCvSharp.Size(150, 150));"
   ]
  },
  {
   "cell_type": "code",
   "execution_count": 8,
   "metadata": {},
   "outputs": [],
   "source": [
    "OpenCvSharp.Cv2.ImWrite(@\"images-roi-method\\003_roi.jpg\", roi);  "
   ]
  },
  {
   "cell_type": "markdown",
   "metadata": {},
   "source": [
    "![](images-roi-method/003_roi.jpg)"
   ]
  },
  {
   "cell_type": "code",
   "execution_count": null,
   "metadata": {},
   "outputs": [],
   "source": []
  }
 ],
 "metadata": {
  "kernelspec": {
   "display_name": ".NET (C#)",
   "language": "C#",
   "name": ".net-csharp"
  },
  "language_info": {
   "file_extension": ".cs",
   "mimetype": "text/x-csharp",
   "name": "C#",
   "pygments_lexer": "csharp",
   "version": "8.0"
  }
 },
 "nbformat": 4,
 "nbformat_minor": 4
}
