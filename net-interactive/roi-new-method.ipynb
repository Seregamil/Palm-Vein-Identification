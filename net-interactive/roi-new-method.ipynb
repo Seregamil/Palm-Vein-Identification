{
 "cells": [
  {
   "cell_type": "code",
   "execution_count": null,
   "metadata": {},
   "outputs": [
    {
     "data": {
      "text/html": [
       "Installing package OpenCvSharp4.Windows, version 4.2.0.20200208......"
      ]
     },
     "metadata": {},
     "output_type": "display_data"
    }
   ],
   "source": [
    "#r \"nuget:OpenCvSharp4.Windows, 4.2.0.20200208\"\n",
    "    \n",
    "using OpenCvSharp;"
   ]
  },
  {
   "cell_type": "code",
   "execution_count": null,
   "metadata": {},
   "outputs": [],
   "source": [
    "using System;"
   ]
  },
  {
   "cell_type": "code",
   "execution_count": null,
   "metadata": {},
   "outputs": [],
   "source": [
    "var sourceHandle = OpenCvSharp.Cv2.ImRead(@\"images-roi-method\\source.jpg\", OpenCvSharp.ImreadModes.AnyColor);\n",
    "\n",
    "var palmHandle = new OpenCvSharp.Mat();\n",
    "sourceHandle.CopyTo(palmHandle);"
   ]
  },
  {
   "cell_type": "markdown",
   "metadata": {},
   "source": [
    "#### Source image:\n",
    "![](images-roi-method/source.jpg)"
   ]
  },
  {
   "cell_type": "code",
   "execution_count": null,
   "metadata": {},
   "outputs": [],
   "source": [
    "OpenCvSharp.Cv2.Threshold(palmHandle, palmHandle, 0, 255, OpenCvSharp.ThresholdTypes.Otsu);\n",
    "OpenCvSharp.Cv2.ImWrite(@\"images-roi-method\\001_threshold.jpg\", palmHandle);"
   ]
  },
  {
   "cell_type": "markdown",
   "metadata": {},
   "source": [
    "#### Thresholded image:\n",
    "\n",
    "![](images-roi-method/001_threshold.jpg)"
   ]
  },
  {
   "cell_type": "code",
   "execution_count": null,
   "metadata": {},
   "outputs": [],
   "source": [
    "OpenCvSharp.Cv2.DistanceTransform(palmHandle, palmHandle, OpenCvSharp.DistanceTypes.L2, OpenCvSharp.DistanceMaskSize.Precise);\n",
    "palmHandle.ConvertTo(palmHandle, OpenCvSharp.MatType.CV_8U);\n",
    "\n",
    "OpenCvSharp.Cv2.ImWrite(@\"images-roi-method\\002_distance_transform.jpg\", palmHandle);"
   ]
  },
  {
   "cell_type": "markdown",
   "metadata": {},
   "source": [
    "#### Apply distance transform\n",
    "\n",
    "![](images-roi-method/002_distance_transform.jpg)"
   ]
  },
  {
   "cell_type": "code",
   "execution_count": null,
   "metadata": {},
   "outputs": [],
   "source": [
    "OpenCvSharp.Cv2.Threshold(palmHandle, palmHandle, 0, 1, OpenCvSharp.ThresholdTypes.Otsu);"
   ]
  },
  {
   "cell_type": "code",
   "execution_count": null,
   "metadata": {},
   "outputs": [],
   "source": [
    "OpenCvSharp.Point[][] contours;\n",
    "OpenCvSharp.HierarchyIndex[] hierarchy;"
   ]
  },
  {
   "cell_type": "code",
   "execution_count": null,
   "metadata": {},
   "outputs": [],
   "source": [
    "OpenCvSharp.Cv2.FindContours(palmHandle, out contours, out hierarchy, OpenCvSharp.RetrievalModes.External, OpenCvSharp.ContourApproximationModes.ApproxNone);\n",
    "Console.WriteLine($\"Total contours: {contours.Length}\");"
   ]
  },
  {
   "cell_type": "code",
   "execution_count": null,
   "metadata": {},
   "outputs": [],
   "source": [
    "OpenCvSharp.Cv2.DrawContours(sourceHandle, contours, -1, OpenCvSharp.Scalar.White, 2, OpenCvSharp.LineTypes.Link8, hierarchy);\n",
    "OpenCvSharp.Cv2.ImWrite(@\"images-roi-method\\003_contours.jpg\", sourceHandle);"
   ]
  },
  {
   "cell_type": "markdown",
   "metadata": {},
   "source": [
    "#### Apply contours to source image\n",
    "\n",
    "![](images-roi-method/003_contours.jpg)"
   ]
  },
  {
   "cell_type": "code",
   "execution_count": null,
   "metadata": {},
   "outputs": [],
   "source": [
    "var rotatedRect = OpenCvSharp.Cv2.MinAreaRect(contours[0]);\n",
    "OpenCvSharp.Cv2.Circle(sourceHandle, (int)rotatedRect.Center.X, (int)rotatedRect.Center.Y, 7, OpenCvSharp.Scalar.White);\n",
    "\n",
    "Console.WriteLine($\"Rect center: X: {rotatedRect.Center.X}; Y: {rotatedRect.Center.Y}\");\n",
    "Console.WriteLine($\"Rectangle angle: {rotatedRect.Angle}\");\n",
    "\n",
    "OpenCvSharp.Cv2.ImWrite(@\"images-roi-method\\009_finally.jpg\", sourceHandle);"
   ]
  },
  {
   "cell_type": "markdown",
   "metadata": {},
   "source": [
    "TODO: selecting roi\n",
    "\n",
    "![](images-roi-method/009_finally.jpg)"
   ]
  },
  {
   "cell_type": "code",
   "execution_count": null,
   "metadata": {},
   "outputs": [],
   "source": []
  }
 ],
 "metadata": {
  "kernelspec": {
   "display_name": ".NET (C#)",
   "language": "C#",
   "name": ".net-csharp"
  },
  "language_info": {
   "file_extension": ".cs",
   "mimetype": "text/x-csharp",
   "name": "C#",
   "pygments_lexer": "csharp",
   "version": "8.0"
  }
 },
 "nbformat": 4,
 "nbformat_minor": 4
}
