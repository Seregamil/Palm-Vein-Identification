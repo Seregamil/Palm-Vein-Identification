{
 "cells": [
  {
   "cell_type": "code",
   "execution_count": 1,
   "metadata": {},
   "outputs": [
    {
     "data": {
      "text/html": [
       "Installing package OpenCvSharp4.Windows, version 4.2.0.20200208......."
      ]
     },
     "metadata": {},
     "output_type": "display_data"
    },
    {
     "ename": "Unhandled exception",
     "evalue": "input.fsx (1,7)-(1,18) typecheck error The value or constructor 'OpenCvSharp' is not defined.",
     "output_type": "error",
     "traceback": [
      "input.fsx (1,7)-(1,18) typecheck error The value or constructor 'OpenCvSharp' is not defined."
     ]
    }
   ],
   "source": [
    "#r \"nuget:OpenCvSharp4.Windows, 4.2.0.20200208\"\n",
    "using OpenCvSharp;"
   ]
  },
  {
   "cell_type": "code",
   "execution_count": 2,
   "metadata": {},
   "outputs": [],
   "source": [
    "using System;\n",
    "using System.Collections.Generic;\n",
    "using System.Diagnostics;\n",
    "using System.IO;\n",
    "using System.Linq;"
   ]
  },
  {
   "cell_type": "code",
   "execution_count": 3,
   "metadata": {},
   "outputs": [],
   "source": [
    "var sampleImagePath = @\"images\\001_l_940_01.jpg\"; // path to sample image"
   ]
  },
  {
   "cell_type": "code",
   "execution_count": 4,
   "metadata": {},
   "outputs": [],
   "source": [
    "var sourceImageHandle = OpenCvSharp.Cv2.ImRead (sampleImagePath, OpenCvSharp.ImreadModes.Color);"
   ]
  },
  {
   "cell_type": "code",
   "execution_count": 5,
   "metadata": {},
   "outputs": [
    {
     "name": "stdout",
     "output_type": "stream",
     "text": [
      "Image size: 576x768\r\n"
     ]
    }
   ],
   "source": [
    "var imageHeight = sourceImageHandle.Size().Height;\n",
    "var imageWidth = sourceImageHandle.Size().Width;\n",
    "\n",
    "Console.WriteLine($\"Image size: {imageHeight}x{imageWidth}\");"
   ]
  },
  {
   "cell_type": "code",
   "execution_count": 6,
   "metadata": {},
   "outputs": [],
   "source": [
    "OpenCvSharp.Cv2.CvtColor (sourceImageHandle, sourceImageHandle, OpenCvSharp.ColorConversionCodes.BGR2GRAY);\n",
    "var thresholdImageHandle = sourceImageHandle.Threshold (5, 255, OpenCvSharp.ThresholdTypes.Otsu);\n",
    "\n",
    "OpenCvSharp.Cv2.ImWrite(@\"images\\001_threshold.jpg\", thresholdImageHandle);"
   ]
  },
  {
   "cell_type": "markdown",
   "metadata": {},
   "source": [
    "Threshold image  \n",
    "![Threshold image](images/001_threshold.jpg)"
   ]
  },
  {
   "cell_type": "code",
   "execution_count": 7,
   "metadata": {},
   "outputs": [
    {
     "name": "stdout",
     "output_type": "stream",
     "text": [
      "Total ROI extracton time: 00:00:04.3276456\r\n"
     ]
    }
   ],
   "source": [
    "var roiExtractingTimer = new Stopwatch ();\n",
    "roiExtractingTimer.Start();\n",
    "\n",
    "var i1 = imageHeight - 50;\n",
    "var i2 = imageWidth - 50;\n",
    "\n",
    "var radius = 50;\n",
    "var pX = 0;\n",
    "var pY = 0;\n",
    "\n",
    "for (var i = 50; i != i1; i++)\n",
    "{\n",
    "    for (var j = 50; j != i2; j++)\n",
    "    {\n",
    "        if (thresholdImageHandle.Get<byte>(i, j) == 255)\n",
    "        {\n",
    "            var a = 0;\n",
    "            for (a = 1; a < 360; a++)\n",
    "            {\n",
    "                var y1 = Convert.ToInt16(j + radius * Math.Cos(a * Math.PI / 180));\n",
    "                var x1 = Convert.ToInt16(i - radius * Math.Sin(a * Math.PI / 180));\n",
    "                if (x1 < 1 || x1 > i1 || y1 < 1 || y1 > i2 || thresholdImageHandle.Get<byte>(x1, y1) == 0)\n",
    "                    break;\n",
    "            }\n",
    "            if (a == 360)\n",
    "            {\n",
    "                radius += 10;\n",
    "                pX = i;\n",
    "                pY = j;\n",
    "            }\n",
    "        }\n",
    "    }\n",
    "}\n",
    "\n",
    "radius -= 10;\n",
    "\n",
    "var x0 = Convert.ToInt16(pY - Math.Sqrt(2) * radius / 2);\n",
    "var y0 = Convert.ToInt16(pX - Math.Sqrt(2) * radius / 2);\n",
    "\n",
    "var wsize = Convert.ToInt16(Math.Sqrt(2) * radius);\n",
    "var rectangle = new OpenCvSharp.Rect(x0, y0, wsize, wsize);\n",
    "\n",
    "roiExtractingTimer.Stop();\n",
    "Console.WriteLine($\"Total ROI extracton time: {roiExtractingTimer.Elapsed}\");"
   ]
  },
  {
   "cell_type": "code",
   "execution_count": 8,
   "metadata": {},
   "outputs": [],
   "source": [
    "var ROIHandle = new OpenCvSharp.Mat(sourceImageHandle, rectangle).Resize(new OpenCvSharp.Size(216, 216));\n",
    "OpenCvSharp.Cv2.Rotate(ROIHandle, ROIHandle, OpenCvSharp.RotateFlags.Rotate90Counterclockwise);\n",
    "OpenCvSharp.Cv2.ImWrite(@\"images\\002_roi.jpg\", ROIHandle);"
   ]
  },
  {
   "cell_type": "code",
   "execution_count": 9,
   "metadata": {},
   "outputs": [],
   "source": [
    "var drawROIImage = new OpenCvSharp.Mat();\n",
    "sourceImageHandle.CopyTo(drawROIImage);\n",
    "drawROIImage.Rectangle(rectangle, OpenCvSharp.Scalar.White);\n",
    "OpenCvSharp.Cv2.ImWrite(@\"images\\003_roi_on_source.jpg\", drawROIImage);"
   ]
  },
  {
   "cell_type": "markdown",
   "metadata": {},
   "source": [
    "ROI on source image:  \n",
    "![](images\\003_roi_on_source.jpg)"
   ]
  },
  {
   "cell_type": "markdown",
   "metadata": {},
   "source": [
    "#### Reduce noise"
   ]
  },
  {
   "cell_type": "code",
   "execution_count": 10,
   "metadata": {},
   "outputs": [],
   "source": [
    "OpenCvSharp.Cv2.MedianBlur(ROIHandle, ROIHandle, 5);\n",
    "OpenCvSharp.Cv2.FastNlMeansDenoising(ROIHandle, ROIHandle);\n",
    "OpenCvSharp.Cv2.CvtColor(ROIHandle, ROIHandle, OpenCvSharp.ColorConversionCodes.GRAY2BGR);\n",
    "OpenCvSharp.Cv2.ImWrite(@\"images\\003_roi_without_noise.jpg\", ROIHandle);"
   ]
  },
  {
   "cell_type": "markdown",
   "metadata": {},
   "source": [
    "Original\n",
    "![](images\\002_roi.jpg)\n",
    "Without noise\n",
    "![](images\\003_roi_without_noise.jpg)"
   ]
  },
  {
   "cell_type": "code",
   "execution_count": 11,
   "metadata": {},
   "outputs": [],
   "source": [
    "var elementSize = new OpenCvSharp.Size (3, 3);"
   ]
  },
  {
   "cell_type": "markdown",
   "metadata": {},
   "source": [
    "#### Equalize hist"
   ]
  },
  {
   "cell_type": "code",
   "execution_count": 12,
   "metadata": {},
   "outputs": [],
   "source": [
    "var element = OpenCvSharp.Cv2.GetStructuringElement(OpenCvSharp.MorphShapes.Cross, elementSize); \n",
    "OpenCvSharp.Cv2.MorphologyEx(ROIHandle, ROIHandle, OpenCvSharp.MorphTypes.Open, element);\n",
    "OpenCvSharp.Cv2.CvtColor(ROIHandle, ROIHandle, OpenCvSharp.ColorConversionCodes.BGR2YUV);\n",
    "\n",
    "var RGB = OpenCvSharp.Cv2.Split(ROIHandle);\n",
    "\n",
    "RGB[0] = RGB[0].EqualizeHist();\n",
    "RGB[1] = RGB[1].EqualizeHist();\n",
    "RGB[2] = RGB[2].EqualizeHist();\n",
    "\n",
    "OpenCvSharp.Cv2.Merge(RGB, ROIHandle);\n",
    "OpenCvSharp.Cv2.CvtColor(ROIHandle, ROIHandle, OpenCvSharp.ColorConversionCodes.YUV2BGR);\n",
    "\n",
    "OpenCvSharp.Cv2.ImWrite(@\"images\\004_equalize_hist.jpg\", ROIHandle);"
   ]
  },
  {
   "cell_type": "markdown",
   "metadata": {},
   "source": [
    "Without noise\n",
    "![](images\\003_roi_without_noise.jpg)\n",
    "\n",
    "Equelize hist\n",
    "![](images\\004_equalize_hist.jpg)"
   ]
  },
  {
   "cell_type": "markdown",
   "metadata": {},
   "source": [
    "#### Invert image"
   ]
  },
  {
   "cell_type": "code",
   "execution_count": 13,
   "metadata": {},
   "outputs": [],
   "source": [
    "OpenCvSharp.Cv2.BitwiseNot(ROIHandle, ROIHandle);\n",
    "OpenCvSharp.Cv2.ImWrite(@\"images\\005_inverted.jpg\", ROIHandle);"
   ]
  },
  {
   "cell_type": "markdown",
   "metadata": {},
   "source": [
    "Equelize hist\n",
    "![](images\\004_equalize_hist.jpg)\n",
    "\n",
    "Inverted\n",
    "![](images\\005_inverted.jpg)"
   ]
  },
  {
   "cell_type": "markdown",
   "metadata": {},
   "source": [
    "#### Erode image"
   ]
  },
  {
   "cell_type": "code",
   "execution_count": 14,
   "metadata": {},
   "outputs": [],
   "source": [
    "OpenCvSharp.Cv2.CvtColor(ROIHandle, ROIHandle, OpenCvSharp.ColorConversionCodes.BGR2GRAY);\n",
    "OpenCvSharp.Cv2.Erode(ROIHandle, ROIHandle, element);\n",
    "OpenCvSharp.Cv2.ImWrite(@\"images\\006_eroded.jpg\", ROIHandle);"
   ]
  },
  {
   "cell_type": "markdown",
   "metadata": {},
   "source": [
    "Inverted\n",
    "![](images\\005_inverted.jpg)\n",
    "\n",
    "Eroded\n",
    "![](images\\006_eroded.jpg)"
   ]
  },
  {
   "cell_type": "markdown",
   "metadata": {},
   "source": [
    "#### Skelitonize and apply threshold"
   ]
  },
  {
   "cell_type": "code",
   "execution_count": 15,
   "metadata": {},
   "outputs": [],
   "source": [
    "var skel = new OpenCvSharp.Mat(ROIHandle.Size(), OpenCvSharp.MatType.CV_8UC1, new OpenCvSharp.Scalar(0));\n",
    "var temp = new OpenCvSharp.Mat();\n",
    "var eroded = new OpenCvSharp.Mat();\n",
    "\n",
    "do\n",
    "{\n",
    "    OpenCvSharp.Cv2.MorphologyEx(ROIHandle, eroded, OpenCvSharp.MorphTypes.Erode, element);\n",
    "    OpenCvSharp.Cv2.MorphologyEx(eroded, temp, OpenCvSharp.MorphTypes.Dilate, element);\n",
    "    OpenCvSharp.Cv2.Subtract(ROIHandle, temp, temp);\n",
    "    OpenCvSharp.Cv2.BitwiseOr(skel, temp, skel);\n",
    "    eroded.CopyTo(ROIHandle);\n",
    "\n",
    "} while (OpenCvSharp.Cv2.CountNonZero(ROIHandle) != 0);\n",
    "\n",
    "//! Threshold skeletonized image\n",
    "var thr = skel.Threshold(0, 255, OpenCvSharp.ThresholdTypes.Binary);\n",
    "OpenCvSharp.Cv2.ImWrite(@\"images\\007_thresholded.jpg\", thr);"
   ]
  },
  {
   "cell_type": "markdown",
   "metadata": {},
   "source": [
    "Eroded\n",
    "![](images\\006_eroded.jpg)\n",
    "\n",
    "Thresholded\n",
    "![](images\\007_thresholded.jpg)"
   ]
  },
  {
   "cell_type": "markdown",
   "metadata": {},
   "source": [
    "We should remove contours from binarized image for ML"
   ]
  },
  {
   "cell_type": "code",
   "execution_count": 16,
   "metadata": {},
   "outputs": [],
   "source": [
    "thr.Line(new OpenCvSharp.Point(0, 0), new OpenCvSharp.Point(0, thr.Height), OpenCvSharp.Scalar.Black, 2); // rm left contour\n",
    "thr.Line(new OpenCvSharp.Point(0, 0), new OpenCvSharp.Point(thr.Width, 0), OpenCvSharp.Scalar.Black, 2); // rm top contour\n",
    "\n",
    "thr.Line(new OpenCvSharp.Point(thr.Width, thr.Height), new OpenCvSharp.Point(thr.Width, 0), OpenCvSharp.Scalar.Black, 2); // rm right contour\n",
    "thr.Line(new OpenCvSharp.Point(thr.Width, thr.Height), new OpenCvSharp.Point(0, thr.Height), OpenCvSharp.Scalar.Black, 2); // rm bot contour\n",
    "OpenCvSharp.Cv2.ImWrite(@\"images\\008_result.jpg\", thr);"
   ]
  },
  {
   "cell_type": "markdown",
   "metadata": {},
   "source": [
    "Thresholded\n",
    "![](images\\007_thresholded.jpg)\n",
    "\n",
    "Finally image without contours\n",
    "![](images\\008_result.jpg)"
   ]
  }
 ],
 "metadata": {
  "kernelspec": {
   "display_name": ".NET (C#)",
   "language": "C#",
   "name": ".net-csharp"
  },
  "language_info": {
   "file_extension": ".cs",
   "mimetype": "text/x-csharp",
   "name": "C#",
   "pygments_lexer": "csharp",
   "version": "8.0"
  }
 },
 "nbformat": 4,
 "nbformat_minor": 4
}
